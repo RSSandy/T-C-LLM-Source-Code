{
 "cells": [
  {
   "cell_type": "code",
   "execution_count": null,
   "metadata": {},
   "outputs": [],
   "source": [
    "# Install Flask to create an API server\n",
    "%pip install flask-ngrok\n",
    "\n",
    "from flask import Flask, request, jsonify\n",
    "from flask_ngrok import run_with_ngrok\n",
    "\n",
    "# Initialize the Flask app\n",
    "app = Flask(__name__)\n",
    "run_with_ngrok(app)  # This will make the app accessible over the web"
   ]
  },
  {
   "cell_type": "code",
   "execution_count": null,
   "metadata": {},
   "outputs": [],
   "source": [
    "@app.route('/upload', methods=['POST'])\n",
    "def upload_file():\n",
    "    # Check if the 'file' key exists in the request\n",
    "    if 'file' not in request.files:\n",
    "        return jsonify({\"error\": \"No file part\"}), 400\n",
    "\n",
    "    file = request.files['file']\n",
    "    \n",
    "    if file.filename == '':\n",
    "        return jsonify({\"error\": \"No selected file\"}), 400\n",
    "\n",
    "    # Save the file to a location on the backend (e.g., /tmp or /content in Colab)\n",
    "    save_path = f'/content/{file.filename}'\n",
    "    file.save(save_path)\n",
    "    \n",
    "    # Here you can process the file (e.g., reading a CSV or image)\n",
    "    # For now, just return a success message\n",
    "    return jsonify({\"message\": f\"File {file.filename} uploaded successfully!\"})"
   ]
  },
  {
   "cell_type": "code",
   "execution_count": null,
   "metadata": {},
   "outputs": [],
   "source": [
    "# Run the app\n",
    "if __name__ == '__main__':\n",
    "    app.run()"
   ]
  }
 ],
 "metadata": {
  "language_info": {
   "name": "python"
  },
  "orig_nbformat": 4
 },
 "nbformat": 4,
 "nbformat_minor": 2
}
